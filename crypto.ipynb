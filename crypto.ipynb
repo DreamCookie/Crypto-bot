{
  "nbformat": 4,
  "nbformat_minor": 0,
  "metadata": {
    "colab": {
      "provenance": []
    },
    "kernelspec": {
      "name": "python3",
      "display_name": "Python 3"
    },
    "language_info": {
      "name": "python"
    },
    "widgets": {
      "application/vnd.jupyter.widget-state+json": {
        "6350e1d512184cebbeee07ebe4d89468": {
          "model_module": "@jupyter-widgets/controls",
          "model_name": "DropdownModel",
          "model_module_version": "1.5.0",
          "state": {
            "_dom_classes": [],
            "_model_module": "@jupyter-widgets/controls",
            "_model_module_version": "1.5.0",
            "_model_name": "DropdownModel",
            "_options_labels": [
              "bitcoin",
              "ethereum",
              "litecoin",
              "dogecoin"
            ],
            "_view_count": null,
            "_view_module": "@jupyter-widgets/controls",
            "_view_module_version": "1.5.0",
            "_view_name": "DropdownView",
            "description": "Select Crypto:",
            "description_tooltip": null,
            "disabled": false,
            "index": 0,
            "layout": "IPY_MODEL_15dfd6182f2c4798bb221f8d2c8b5ddc",
            "style": "IPY_MODEL_16447c5eb61a45f3922a87642ff65934"
          }
        },
        "15dfd6182f2c4798bb221f8d2c8b5ddc": {
          "model_module": "@jupyter-widgets/base",
          "model_name": "LayoutModel",
          "model_module_version": "1.2.0",
          "state": {
            "_model_module": "@jupyter-widgets/base",
            "_model_module_version": "1.2.0",
            "_model_name": "LayoutModel",
            "_view_count": null,
            "_view_module": "@jupyter-widgets/base",
            "_view_module_version": "1.2.0",
            "_view_name": "LayoutView",
            "align_content": null,
            "align_items": null,
            "align_self": null,
            "border": null,
            "bottom": null,
            "display": null,
            "flex": null,
            "flex_flow": null,
            "grid_area": null,
            "grid_auto_columns": null,
            "grid_auto_flow": null,
            "grid_auto_rows": null,
            "grid_column": null,
            "grid_gap": null,
            "grid_row": null,
            "grid_template_areas": null,
            "grid_template_columns": null,
            "grid_template_rows": null,
            "height": null,
            "justify_content": null,
            "justify_items": null,
            "left": null,
            "margin": null,
            "max_height": null,
            "max_width": null,
            "min_height": null,
            "min_width": null,
            "object_fit": null,
            "object_position": null,
            "order": null,
            "overflow": null,
            "overflow_x": null,
            "overflow_y": null,
            "padding": null,
            "right": null,
            "top": null,
            "visibility": null,
            "width": null
          }
        },
        "16447c5eb61a45f3922a87642ff65934": {
          "model_module": "@jupyter-widgets/controls",
          "model_name": "DescriptionStyleModel",
          "model_module_version": "1.5.0",
          "state": {
            "_model_module": "@jupyter-widgets/controls",
            "_model_module_version": "1.5.0",
            "_model_name": "DescriptionStyleModel",
            "_view_count": null,
            "_view_module": "@jupyter-widgets/base",
            "_view_module_version": "1.2.0",
            "_view_name": "StyleView",
            "description_width": ""
          }
        },
        "879c9e49d4954eb7ae279d0024803280": {
          "model_module": "@jupyter-widgets/controls",
          "model_name": "ButtonModel",
          "model_module_version": "1.5.0",
          "state": {
            "_dom_classes": [],
            "_model_module": "@jupyter-widgets/controls",
            "_model_module_version": "1.5.0",
            "_model_name": "ButtonModel",
            "_view_count": null,
            "_view_module": "@jupyter-widgets/controls",
            "_view_module_version": "1.5.0",
            "_view_name": "ButtonView",
            "button_style": "",
            "description": "Get Price and Plot",
            "disabled": false,
            "icon": "",
            "layout": "IPY_MODEL_d1a1a81381504787ae98001621c60fe6",
            "style": "IPY_MODEL_c00a05be7aa04df887f815e76f05bdfc",
            "tooltip": ""
          }
        },
        "d1a1a81381504787ae98001621c60fe6": {
          "model_module": "@jupyter-widgets/base",
          "model_name": "LayoutModel",
          "model_module_version": "1.2.0",
          "state": {
            "_model_module": "@jupyter-widgets/base",
            "_model_module_version": "1.2.0",
            "_model_name": "LayoutModel",
            "_view_count": null,
            "_view_module": "@jupyter-widgets/base",
            "_view_module_version": "1.2.0",
            "_view_name": "LayoutView",
            "align_content": null,
            "align_items": null,
            "align_self": null,
            "border": null,
            "bottom": null,
            "display": null,
            "flex": null,
            "flex_flow": null,
            "grid_area": null,
            "grid_auto_columns": null,
            "grid_auto_flow": null,
            "grid_auto_rows": null,
            "grid_column": null,
            "grid_gap": null,
            "grid_row": null,
            "grid_template_areas": null,
            "grid_template_columns": null,
            "grid_template_rows": null,
            "height": null,
            "justify_content": null,
            "justify_items": null,
            "left": null,
            "margin": null,
            "max_height": null,
            "max_width": null,
            "min_height": null,
            "min_width": null,
            "object_fit": null,
            "object_position": null,
            "order": null,
            "overflow": null,
            "overflow_x": null,
            "overflow_y": null,
            "padding": null,
            "right": null,
            "top": null,
            "visibility": null,
            "width": null
          }
        },
        "c00a05be7aa04df887f815e76f05bdfc": {
          "model_module": "@jupyter-widgets/controls",
          "model_name": "ButtonStyleModel",
          "model_module_version": "1.5.0",
          "state": {
            "_model_module": "@jupyter-widgets/controls",
            "_model_module_version": "1.5.0",
            "_model_name": "ButtonStyleModel",
            "_view_count": null,
            "_view_module": "@jupyter-widgets/base",
            "_view_module_version": "1.2.0",
            "_view_name": "StyleView",
            "button_color": null,
            "font_weight": ""
          }
        },
        "99ca223e0127435ea24b978b3c553620": {
          "model_module": "@jupyter-widgets/controls",
          "model_name": "DropdownModel",
          "model_module_version": "1.5.0",
          "state": {
            "_dom_classes": [],
            "_model_module": "@jupyter-widgets/controls",
            "_model_module_version": "1.5.0",
            "_model_name": "DropdownModel",
            "_options_labels": [
              "bitcoin",
              "ethereum",
              "litecoin",
              "dogecoin"
            ],
            "_view_count": null,
            "_view_module": "@jupyter-widgets/controls",
            "_view_module_version": "1.5.0",
            "_view_name": "DropdownView",
            "description": "Select Crypto:",
            "description_tooltip": null,
            "disabled": false,
            "index": 0,
            "layout": "IPY_MODEL_6ad6c2da2ff24d6db5230d38e565a948",
            "style": "IPY_MODEL_d94ff31481074de78cc037396e7c5478"
          }
        },
        "6ad6c2da2ff24d6db5230d38e565a948": {
          "model_module": "@jupyter-widgets/base",
          "model_name": "LayoutModel",
          "model_module_version": "1.2.0",
          "state": {
            "_model_module": "@jupyter-widgets/base",
            "_model_module_version": "1.2.0",
            "_model_name": "LayoutModel",
            "_view_count": null,
            "_view_module": "@jupyter-widgets/base",
            "_view_module_version": "1.2.0",
            "_view_name": "LayoutView",
            "align_content": null,
            "align_items": null,
            "align_self": null,
            "border": null,
            "bottom": null,
            "display": null,
            "flex": null,
            "flex_flow": null,
            "grid_area": null,
            "grid_auto_columns": null,
            "grid_auto_flow": null,
            "grid_auto_rows": null,
            "grid_column": null,
            "grid_gap": null,
            "grid_row": null,
            "grid_template_areas": null,
            "grid_template_columns": null,
            "grid_template_rows": null,
            "height": null,
            "justify_content": null,
            "justify_items": null,
            "left": null,
            "margin": null,
            "max_height": null,
            "max_width": null,
            "min_height": null,
            "min_width": null,
            "object_fit": null,
            "object_position": null,
            "order": null,
            "overflow": null,
            "overflow_x": null,
            "overflow_y": null,
            "padding": null,
            "right": null,
            "top": null,
            "visibility": null,
            "width": null
          }
        },
        "d94ff31481074de78cc037396e7c5478": {
          "model_module": "@jupyter-widgets/controls",
          "model_name": "DescriptionStyleModel",
          "model_module_version": "1.5.0",
          "state": {
            "_model_module": "@jupyter-widgets/controls",
            "_model_module_version": "1.5.0",
            "_model_name": "DescriptionStyleModel",
            "_view_count": null,
            "_view_module": "@jupyter-widgets/base",
            "_view_module_version": "1.2.0",
            "_view_name": "StyleView",
            "description_width": ""
          }
        },
        "e961dd254e164a14ac1fe1127c9f0eb7": {
          "model_module": "@jupyter-widgets/controls",
          "model_name": "ButtonModel",
          "model_module_version": "1.5.0",
          "state": {
            "_dom_classes": [],
            "_model_module": "@jupyter-widgets/controls",
            "_model_module_version": "1.5.0",
            "_model_name": "ButtonModel",
            "_view_count": null,
            "_view_module": "@jupyter-widgets/controls",
            "_view_module_version": "1.5.0",
            "_view_name": "ButtonView",
            "button_style": "",
            "description": "Get Price and Plot",
            "disabled": false,
            "icon": "",
            "layout": "IPY_MODEL_63e22fa0089c429cbdb30de87f69424c",
            "style": "IPY_MODEL_e8f2baaae0484dfca5980d2d0550b7c8",
            "tooltip": ""
          }
        },
        "63e22fa0089c429cbdb30de87f69424c": {
          "model_module": "@jupyter-widgets/base",
          "model_name": "LayoutModel",
          "model_module_version": "1.2.0",
          "state": {
            "_model_module": "@jupyter-widgets/base",
            "_model_module_version": "1.2.0",
            "_model_name": "LayoutModel",
            "_view_count": null,
            "_view_module": "@jupyter-widgets/base",
            "_view_module_version": "1.2.0",
            "_view_name": "LayoutView",
            "align_content": null,
            "align_items": null,
            "align_self": null,
            "border": null,
            "bottom": null,
            "display": null,
            "flex": null,
            "flex_flow": null,
            "grid_area": null,
            "grid_auto_columns": null,
            "grid_auto_flow": null,
            "grid_auto_rows": null,
            "grid_column": null,
            "grid_gap": null,
            "grid_row": null,
            "grid_template_areas": null,
            "grid_template_columns": null,
            "grid_template_rows": null,
            "height": null,
            "justify_content": null,
            "justify_items": null,
            "left": null,
            "margin": null,
            "max_height": null,
            "max_width": null,
            "min_height": null,
            "min_width": null,
            "object_fit": null,
            "object_position": null,
            "order": null,
            "overflow": null,
            "overflow_x": null,
            "overflow_y": null,
            "padding": null,
            "right": null,
            "top": null,
            "visibility": null,
            "width": null
          }
        },
        "e8f2baaae0484dfca5980d2d0550b7c8": {
          "model_module": "@jupyter-widgets/controls",
          "model_name": "ButtonStyleModel",
          "model_module_version": "1.5.0",
          "state": {
            "_model_module": "@jupyter-widgets/controls",
            "_model_module_version": "1.5.0",
            "_model_name": "ButtonStyleModel",
            "_view_count": null,
            "_view_module": "@jupyter-widgets/base",
            "_view_module_version": "1.2.0",
            "_view_name": "StyleView",
            "button_color": null,
            "font_weight": ""
          }
        }
      }
    }
  },
  "cells": [
    {
      "cell_type": "code",
      "source": [
        "#@title\n",
        "!pip install matplotlib pandas"
      ],
      "metadata": {
        "cellView": "form",
        "id": "dqbWqmzT1khd"
      },
      "execution_count": null,
      "outputs": []
    },
    {
      "cell_type": "code",
      "execution_count": 9,
      "metadata": {
        "colab": {
          "base_uri": "https://localhost:8080/",
          "height": 549,
          "referenced_widgets": [
            "6350e1d512184cebbeee07ebe4d89468",
            "15dfd6182f2c4798bb221f8d2c8b5ddc",
            "16447c5eb61a45f3922a87642ff65934",
            "879c9e49d4954eb7ae279d0024803280",
            "d1a1a81381504787ae98001621c60fe6",
            "c00a05be7aa04df887f815e76f05bdfc",
            "99ca223e0127435ea24b978b3c553620",
            "6ad6c2da2ff24d6db5230d38e565a948",
            "d94ff31481074de78cc037396e7c5478",
            "e961dd254e164a14ac1fe1127c9f0eb7",
            "63e22fa0089c429cbdb30de87f69424c",
            "e8f2baaae0484dfca5980d2d0550b7c8"
          ]
        },
        "id": "73ex5qMrymGI",
        "outputId": "c5eced52-b84e-4224-e6f6-139fbf01b343"
      },
      "outputs": [
        {
          "output_type": "display_data",
          "data": {
            "text/plain": [
              "Dropdown(description='Select Crypto:', options=('bitcoin', 'ethereum', 'litecoin', 'dogecoin'), value='bitcoin…"
            ],
            "application/vnd.jupyter.widget-view+json": {
              "version_major": 2,
              "version_minor": 0,
              "model_id": "99ca223e0127435ea24b978b3c553620"
            }
          },
          "metadata": {}
        },
        {
          "output_type": "display_data",
          "data": {
            "text/plain": [
              "Button(description='Get Price and Plot', style=ButtonStyle())"
            ],
            "application/vnd.jupyter.widget-view+json": {
              "version_major": 2,
              "version_minor": 0,
              "model_id": "e961dd254e164a14ac1fe1127c9f0eb7"
            }
          },
          "metadata": {}
        },
        {
          "output_type": "stream",
          "name": "stdout",
          "text": [
            "The current price of bitcoin is $25917\n"
          ]
        },
        {
          "output_type": "display_data",
          "data": {
            "text/plain": [
              "<Figure size 640x480 with 1 Axes>"
            ],
            "image/png": "[encoded data removed]"
          },
          "metadata": {}
        }
      ],
      "source": [
        "import requests\n",
        "import ipywidgets as widgets\n",
        "from IPython.display import display, clear_output\n",
        "import pandas as pd\n",
        "import matplotlib.pyplot as plt\n",
        "\n",
        "def get_crypto_price(coin):\n",
        "#CoinGecko API\n",
        "\n",
        "    url = f\"https://api.coingecko.com/api/v3/simple/price?ids={coin}&vs_currencies=usd\"\n",
        "    response = requests.get(url)\n",
        "    price = response.json()[coin]['usd']\n",
        "    return price\n",
        "\n",
        "def get_crypto_price_history(coin):\n",
        "    url = f\"https://api.coingecko.com/api/v3/coins/{coin}/market_chart?vs_currency=usd&days=30&interval=daily\"\n",
        "    response = requests.get(url)\n",
        "    prices = response.json()['prices']\n",
        "    return prices\n",
        "\n",
        "def plot_price_history(prices, coin):\n",
        "    # Convert timestamp to date and price to USD\n",
        "    data = [[pd.to_datetime(p[0], unit='ms'), p[1]] for p in prices]\n",
        "    \n",
        "    # Create a DataFrame and plot\n",
        "    df = pd.DataFrame(data, columns=['Date', 'Price'])\n",
        "    df.plot(x='Date', y='Price', kind='line')\n",
        "    plt.title(f\"{coin} Price Over the Last 30 Days\")\n",
        "    plt.ylabel(\"Price (USD)\")\n",
        "    plt.show()\n",
        "\n",
        "\n",
        "display(dropdown)\n",
        "display(button)\n",
        "\n",
        "def on_button_clicked(b):\n",
        "    clear_output(wait=True)\n",
        "    display(dropdown)\n",
        "    display(button)\n",
        "    coin = dropdown.value\n",
        "    try:\n",
        "        price = get_crypto_price(coin)\n",
        "        print(f\"The current price of {coin} is ${price}\")\n",
        "        prices = get_crypto_price_history(coin)\n",
        "        plot_price_history(prices, coin)\n",
        "    except:\n",
        "        print(\"Sorry, I can't get the information for that cryptocurrency. Please try again.\")\n",
        "\n",
        "# List of cryptocurrencies for the dropdown menu\n",
        "cryptos = ['bitcoin', 'ethereum', 'litecoin', 'dogecoin']\n",
        "\n",
        "dropdown = widgets.Dropdown(\n",
        "    options=cryptos,\n",
        "    value=cryptos[0],\n",
        "    description='Select Crypto:',\n",
        ")\n",
        "\n",
        "button = widgets.Button(description=\"Get Price and Plot\")\n",
        "button.on_click(on_button_clicked)\n"
      ]
    },
    {
      "cell_type": "code",
      "source": [],
      "metadata": {
        "id": "mQxGaf3r0CU-"
      },
      "execution_count": null,
      "outputs": []
    }
  ]
}